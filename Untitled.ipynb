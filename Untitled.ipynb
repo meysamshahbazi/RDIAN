{
 "cells": [
  {
   "cell_type": "code",
   "execution_count": null,
   "id": "f27d9c5e-ba89-473c-b9c0-21df74e2ca67",
   "metadata": {},
   "outputs": [],
   "source": [
    "import torch\n",
    "import torch.nn as nn\n",
    "import torch.utils.data as Data\n",
    "import torchvision.transforms as transforms\n",
    "import torch.nn.functional as F\n",
    "# from tensorboardX import SummaryWriter\n",
    "import visdom\n",
    "\n",
    "from argparse import ArgumentParser\n",
    "from tqdm import tqdm\n",
    "import os\n",
    "import os.path as ops\n",
    "import math\n",
    "import numpy as np\n",
    "import time\n",
    "import re\n",
    "import scipy.io\n",
    "\n",
    "# from utils.data import IRDSTDataset\n",
    "from model.metrics import SigmoidMetric, SamplewiseSigmoidMetric, ROCMetric, T_ROCMetric\n",
    "from model.segmentation import RDIAN\n",
    "\n",
    "device = torch.device('cuda')\n",
    "os.environ['CUDA_VISIBLE_DEVICES'] = '0'"
   ]
  },
  {
   "cell_type": "code",
   "execution_count": 2,
   "id": "9be25bef-8a28-4e42-a680-40e8a7cfe74d",
   "metadata": {},
   "outputs": [
    {
     "data": {
      "text/plain": [
       "<All keys matched successfully>"
      ]
     },
     "execution_count": 2,
     "metadata": {},
     "output_type": "execute_result"
    }
   ],
   "source": [
    "net = RDIAN()        \n",
    "net.load_state_dict(torch.load('params/best.pth', map_location=lambda storage, loc: storage))      \n"
   ]
  },
  {
   "cell_type": "code",
   "execution_count": 3,
   "id": "0584047d-64b2-45a4-bb8a-df950baa175b",
   "metadata": {},
   "outputs": [
    {
     "data": {
      "text/plain": [
       "RDIAN(\n",
       "  (conv1): Sequential(\n",
       "    (0): Conv2d(1, 16, kernel_size=(3, 3), stride=(1, 1), padding=(1, 1), bias=False)\n",
       "    (1): BatchNorm2d(16, eps=1e-05, momentum=0.1, affine=True, track_running_stats=True)\n",
       "    (2): LeakyReLU(negative_slope=0.01)\n",
       "  )\n",
       "  (conv2): Sequential(\n",
       "    (0): Conv2d(16, 32, kernel_size=(3, 3), stride=(2, 2), padding=(1, 1), bias=False)\n",
       "    (1): BatchNorm2d(32, eps=1e-05, momentum=0.1, affine=True, track_running_stats=True)\n",
       "    (2): LeakyReLU(negative_slope=0.01)\n",
       "  )\n",
       "  (residual_block0): Sequential(\n",
       "    (0): NewBlock(\n",
       "      (layer1): Sequential(\n",
       "        (0): Conv2d(32, 16, kernel_size=(1, 1), stride=(1, 1), bias=False)\n",
       "        (1): BatchNorm2d(16, eps=1e-05, momentum=0.1, affine=True, track_running_stats=True)\n",
       "        (2): LeakyReLU(negative_slope=0.01)\n",
       "      )\n",
       "      (layer2): Sequential(\n",
       "        (0): Conv2d(16, 32, kernel_size=(1, 1), stride=(1, 1), bias=False)\n",
       "        (1): BatchNorm2d(32, eps=1e-05, momentum=0.1, affine=True, track_running_stats=True)\n",
       "        (2): LeakyReLU(negative_slope=0.01)\n",
       "      )\n",
       "    )\n",
       "  )\n",
       "  (residual_block1): Sequential(\n",
       "    (0): NewBlock(\n",
       "      (layer1): Sequential(\n",
       "        (0): Conv2d(32, 16, kernel_size=(3, 3), stride=(1, 1), padding=(1, 1), bias=False)\n",
       "        (1): BatchNorm2d(16, eps=1e-05, momentum=0.1, affine=True, track_running_stats=True)\n",
       "        (2): LeakyReLU(negative_slope=0.01)\n",
       "      )\n",
       "      (layer2): Sequential(\n",
       "        (0): Conv2d(16, 32, kernel_size=(3, 3), stride=(1, 1), padding=(1, 1), bias=False)\n",
       "        (1): BatchNorm2d(32, eps=1e-05, momentum=0.1, affine=True, track_running_stats=True)\n",
       "        (2): LeakyReLU(negative_slope=0.01)\n",
       "      )\n",
       "    )\n",
       "    (1): NewBlock(\n",
       "      (layer1): Sequential(\n",
       "        (0): Conv2d(32, 16, kernel_size=(3, 3), stride=(1, 1), padding=(1, 1), bias=False)\n",
       "        (1): BatchNorm2d(16, eps=1e-05, momentum=0.1, affine=True, track_running_stats=True)\n",
       "        (2): LeakyReLU(negative_slope=0.01)\n",
       "      )\n",
       "      (layer2): Sequential(\n",
       "        (0): Conv2d(16, 32, kernel_size=(3, 3), stride=(1, 1), padding=(1, 1), bias=False)\n",
       "        (1): BatchNorm2d(32, eps=1e-05, momentum=0.1, affine=True, track_running_stats=True)\n",
       "        (2): LeakyReLU(negative_slope=0.01)\n",
       "      )\n",
       "    )\n",
       "  )\n",
       "  (residual_block2): Sequential(\n",
       "    (0): NewBlock(\n",
       "      (layer1): Sequential(\n",
       "        (0): Conv2d(32, 16, kernel_size=(5, 5), stride=(1, 1), padding=(2, 2), bias=False)\n",
       "        (1): BatchNorm2d(16, eps=1e-05, momentum=0.1, affine=True, track_running_stats=True)\n",
       "        (2): LeakyReLU(negative_slope=0.01)\n",
       "      )\n",
       "      (layer2): Sequential(\n",
       "        (0): Conv2d(16, 32, kernel_size=(5, 5), stride=(1, 1), padding=(2, 2), bias=False)\n",
       "        (1): BatchNorm2d(32, eps=1e-05, momentum=0.1, affine=True, track_running_stats=True)\n",
       "        (2): LeakyReLU(negative_slope=0.01)\n",
       "      )\n",
       "    )\n",
       "    (1): NewBlock(\n",
       "      (layer1): Sequential(\n",
       "        (0): Conv2d(32, 16, kernel_size=(5, 5), stride=(1, 1), padding=(2, 2), bias=False)\n",
       "        (1): BatchNorm2d(16, eps=1e-05, momentum=0.1, affine=True, track_running_stats=True)\n",
       "        (2): LeakyReLU(negative_slope=0.01)\n",
       "      )\n",
       "      (layer2): Sequential(\n",
       "        (0): Conv2d(16, 32, kernel_size=(5, 5), stride=(1, 1), padding=(2, 2), bias=False)\n",
       "        (1): BatchNorm2d(32, eps=1e-05, momentum=0.1, affine=True, track_running_stats=True)\n",
       "        (2): LeakyReLU(negative_slope=0.01)\n",
       "      )\n",
       "    )\n",
       "  )\n",
       "  (residual_block3): Sequential(\n",
       "    (0): NewBlock(\n",
       "      (layer1): Sequential(\n",
       "        (0): Conv2d(32, 16, kernel_size=(7, 7), stride=(1, 1), padding=(3, 3), bias=False)\n",
       "        (1): BatchNorm2d(16, eps=1e-05, momentum=0.1, affine=True, track_running_stats=True)\n",
       "        (2): LeakyReLU(negative_slope=0.01)\n",
       "      )\n",
       "      (layer2): Sequential(\n",
       "        (0): Conv2d(16, 32, kernel_size=(7, 7), stride=(1, 1), padding=(3, 3), bias=False)\n",
       "        (1): BatchNorm2d(32, eps=1e-05, momentum=0.1, affine=True, track_running_stats=True)\n",
       "        (2): LeakyReLU(negative_slope=0.01)\n",
       "      )\n",
       "    )\n",
       "    (1): NewBlock(\n",
       "      (layer1): Sequential(\n",
       "        (0): Conv2d(32, 16, kernel_size=(7, 7), stride=(1, 1), padding=(3, 3), bias=False)\n",
       "        (1): BatchNorm2d(16, eps=1e-05, momentum=0.1, affine=True, track_running_stats=True)\n",
       "        (2): LeakyReLU(negative_slope=0.01)\n",
       "      )\n",
       "      (layer2): Sequential(\n",
       "        (0): Conv2d(16, 32, kernel_size=(7, 7), stride=(1, 1), padding=(3, 3), bias=False)\n",
       "        (1): BatchNorm2d(32, eps=1e-05, momentum=0.1, affine=True, track_running_stats=True)\n",
       "        (2): LeakyReLU(negative_slope=0.01)\n",
       "      )\n",
       "    )\n",
       "  )\n",
       "  (cbam): CBAM(\n",
       "    (ChannelGate): ChannelGate(\n",
       "      (mlp): Sequential(\n",
       "        (0): Flatten()\n",
       "        (1): Linear(in_features=32, out_features=1, bias=True)\n",
       "        (2): ReLU()\n",
       "        (3): Linear(in_features=1, out_features=32, bias=True)\n",
       "      )\n",
       "    )\n",
       "    (SpatialGate): SpatialGate(\n",
       "      (compress): ChannelPool()\n",
       "      (spatial): BasicConv(\n",
       "        (conv): Conv2d(2, 1, kernel_size=(7, 7), stride=(1, 1), padding=(3, 3), bias=False)\n",
       "        (bn): BatchNorm2d(1, eps=1e-05, momentum=0.01, affine=True, track_running_stats=True)\n",
       "      )\n",
       "    )\n",
       "  )\n",
       "  (conv_cat): Sequential(\n",
       "    (0): Conv2d(128, 32, kernel_size=(3, 3), stride=(1, 1), padding=(1, 1), bias=False)\n",
       "    (1): BatchNorm2d(32, eps=1e-05, momentum=0.1, affine=True, track_running_stats=True)\n",
       "    (2): LeakyReLU(negative_slope=0.01)\n",
       "  )\n",
       "  (conv_res): Sequential(\n",
       "    (0): Conv2d(16, 32, kernel_size=(1, 1), stride=(1, 1), bias=False)\n",
       "    (1): BatchNorm2d(32, eps=1e-05, momentum=0.1, affine=True, track_running_stats=True)\n",
       "    (2): LeakyReLU(negative_slope=0.01)\n",
       "  )\n",
       "  (relu): ReLU(inplace=True)\n",
       "  (d11): Conv_d11()\n",
       "  (d12): Conv_d12()\n",
       "  (d13): Conv_d13()\n",
       "  (d14): Conv_d14()\n",
       "  (d15): Conv_d15()\n",
       "  (d16): Conv_d16()\n",
       "  (d17): Conv_d17()\n",
       "  (d18): Conv_d18()\n",
       "  (head): _FCNHead(\n",
       "    (block): Sequential(\n",
       "      (0): Conv2d(32, 8, kernel_size=(3, 3), stride=(1, 1), padding=(1, 1), bias=False)\n",
       "      (1): BatchNorm2d(8, eps=1e-05, momentum=0.1, affine=True, track_running_stats=True)\n",
       "      (2): ReLU(inplace=True)\n",
       "      (3): Dropout(p=0.1, inplace=False)\n",
       "      (4): Conv2d(8, 1, kernel_size=(1, 1), stride=(1, 1))\n",
       "    )\n",
       "  )\n",
       ")"
      ]
     },
     "execution_count": 3,
     "metadata": {},
     "output_type": "execute_result"
    }
   ],
   "source": [
    "net"
   ]
  },
  {
   "cell_type": "code",
   "execution_count": 4,
   "id": "44dd5bc5-b039-4e26-80a3-6e9c30144e9c",
   "metadata": {},
   "outputs": [],
   "source": [
    "input = torch.randn(1,1,320,320)"
   ]
  },
  {
   "cell_type": "code",
   "execution_count": 6,
   "id": "f1a21786-2806-4837-90f4-627e38a051b2",
   "metadata": {},
   "outputs": [],
   "source": [
    "mask = net(input)"
   ]
  },
  {
   "cell_type": "code",
   "execution_count": 8,
   "id": "24920828-76cd-4bdf-b343-89e22bfe2f82",
   "metadata": {},
   "outputs": [
    {
     "data": {
      "text/plain": [
       "torch.Size([1, 1, 320, 320])"
      ]
     },
     "execution_count": 8,
     "metadata": {},
     "output_type": "execute_result"
    }
   ],
   "source": [
    "mask.shape"
   ]
  },
  {
   "cell_type": "code",
   "execution_count": null,
   "id": "a8ae059a-8f7b-45a8-be38-70516c898fa7",
   "metadata": {},
   "outputs": [],
   "source": []
  }
 ],
 "metadata": {
  "kernelspec": {
   "display_name": "Python 3 (ipykernel)",
   "language": "python",
   "name": "python3"
  },
  "language_info": {
   "codemirror_mode": {
    "name": "ipython",
    "version": 3
   },
   "file_extension": ".py",
   "mimetype": "text/x-python",
   "name": "python",
   "nbconvert_exporter": "python",
   "pygments_lexer": "ipython3",
   "version": "3.13.5"
  }
 },
 "nbformat": 4,
 "nbformat_minor": 5
}
